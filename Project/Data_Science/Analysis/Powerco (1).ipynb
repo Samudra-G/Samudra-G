{
 "cells": [
  {
   "cell_type": "markdown",
   "id": "a207638d-2d90-4a41-81e0-f86b35a174f9",
   "metadata": {},
   "source": [
    "# Exploratory Data Analysis Starter\n",
    "\n",
    "## Import packages"
   ]
  },
  {
   "cell_type": "code",
   "execution_count": 1,
   "id": "21fa22a3-62fc-4ee9-ad3b-5e3fbc059bdf",
   "metadata": {},
   "outputs": [],
   "source": [
    "import matplotlib.pyplot as plt\n",
    "import seaborn as sns\n",
    "import pandas as pd\n",
    "\n",
    "# Shows plots in jupyter notebook\n",
    "%matplotlib inline\n",
    "\n",
    "# Set plot style\n",
    "sns.set(color_codes=True)"
   ]
  },
  {
   "cell_type": "markdown",
   "id": "88cb5312-cbc0-4193-b84e-2c94455c9edf",
   "metadata": {},
   "source": [
    "---\n",
    "\n",
    "## Loading data with Pandas\n",
    "\n",
    "We need to load `client_data.csv` and `price_data.csv` into individual dataframes so that we can work with them in Python. For this notebook and all further notebooks, it will be assumed that the CSV files will the placed in the same file location as the notebook. If they are not, please adjust the directory within the `read_csv` method accordingly."
   ]
  },
  {
   "cell_type": "code",
   "execution_count": 4,
   "id": "82e6a4ae-2b8a-4152-b04f-0c998466fd50",
   "metadata": {},
   "outputs": [],
   "source": [
    "client_df = pd.read_csv('client_data (1).csv')\n",
    "price_df = pd.read_csv('price_data (1).csv')"
   ]
  },
  {
   "cell_type": "markdown",
   "id": "4ac7aaab-7c26-40ca-8f63-cf2ef9541ce6",
   "metadata": {},
   "source": [
    "You can view the first 3 rows of a dataframe using the `head` method. Similarly, if you wanted to see the last 3, you can use `tail(3)`"
   ]
  },
  {
   "cell_type": "code",
   "execution_count": 7,
   "id": "dcf0d488-d3df-4819-a52b-e335c0674e43",
   "metadata": {},
   "outputs": [
    {
     "data": {
      "text/html": [
       "<div>\n",
       "<style scoped>\n",
       "    .dataframe tbody tr th:only-of-type {\n",
       "        vertical-align: middle;\n",
       "    }\n",
       "\n",
       "    .dataframe tbody tr th {\n",
       "        vertical-align: top;\n",
       "    }\n",
       "\n",
       "    .dataframe thead th {\n",
       "        text-align: right;\n",
       "    }\n",
       "</style>\n",
       "<table border=\"1\" class=\"dataframe\">\n",
       "  <thead>\n",
       "    <tr style=\"text-align: right;\">\n",
       "      <th></th>\n",
       "      <th>id</th>\n",
       "      <th>channel_sales</th>\n",
       "      <th>cons_12m</th>\n",
       "      <th>cons_gas_12m</th>\n",
       "      <th>cons_last_month</th>\n",
       "      <th>date_activ</th>\n",
       "      <th>date_end</th>\n",
       "      <th>date_modif_prod</th>\n",
       "      <th>date_renewal</th>\n",
       "      <th>forecast_cons_12m</th>\n",
       "      <th>...</th>\n",
       "      <th>has_gas</th>\n",
       "      <th>imp_cons</th>\n",
       "      <th>margin_gross_pow_ele</th>\n",
       "      <th>margin_net_pow_ele</th>\n",
       "      <th>nb_prod_act</th>\n",
       "      <th>net_margin</th>\n",
       "      <th>num_years_antig</th>\n",
       "      <th>origin_up</th>\n",
       "      <th>pow_max</th>\n",
       "      <th>churn</th>\n",
       "    </tr>\n",
       "  </thead>\n",
       "  <tbody>\n",
       "    <tr>\n",
       "      <th>0</th>\n",
       "      <td>24011ae4ebbe3035111d65fa7c15bc57</td>\n",
       "      <td>foosdfpfkusacimwkcsosbicdxkicaua</td>\n",
       "      <td>0</td>\n",
       "      <td>54946</td>\n",
       "      <td>0</td>\n",
       "      <td>2013-06-15</td>\n",
       "      <td>2016-06-15</td>\n",
       "      <td>2015-11-01</td>\n",
       "      <td>2015-06-23</td>\n",
       "      <td>0.00</td>\n",
       "      <td>...</td>\n",
       "      <td>t</td>\n",
       "      <td>0.0</td>\n",
       "      <td>25.44</td>\n",
       "      <td>25.44</td>\n",
       "      <td>2</td>\n",
       "      <td>678.99</td>\n",
       "      <td>3</td>\n",
       "      <td>lxidpiddsbxsbosboudacockeimpuepw</td>\n",
       "      <td>43.648</td>\n",
       "      <td>1</td>\n",
       "    </tr>\n",
       "    <tr>\n",
       "      <th>1</th>\n",
       "      <td>d29c2c54acc38ff3c0614d0a653813dd</td>\n",
       "      <td>MISSING</td>\n",
       "      <td>4660</td>\n",
       "      <td>0</td>\n",
       "      <td>0</td>\n",
       "      <td>2009-08-21</td>\n",
       "      <td>2016-08-30</td>\n",
       "      <td>2009-08-21</td>\n",
       "      <td>2015-08-31</td>\n",
       "      <td>189.95</td>\n",
       "      <td>...</td>\n",
       "      <td>f</td>\n",
       "      <td>0.0</td>\n",
       "      <td>16.38</td>\n",
       "      <td>16.38</td>\n",
       "      <td>1</td>\n",
       "      <td>18.89</td>\n",
       "      <td>6</td>\n",
       "      <td>kamkkxfxxuwbdslkwifmmcsiusiuosws</td>\n",
       "      <td>13.800</td>\n",
       "      <td>0</td>\n",
       "    </tr>\n",
       "    <tr>\n",
       "      <th>2</th>\n",
       "      <td>764c75f661154dac3a6c254cd082ea7d</td>\n",
       "      <td>foosdfpfkusacimwkcsosbicdxkicaua</td>\n",
       "      <td>544</td>\n",
       "      <td>0</td>\n",
       "      <td>0</td>\n",
       "      <td>2010-04-16</td>\n",
       "      <td>2016-04-16</td>\n",
       "      <td>2010-04-16</td>\n",
       "      <td>2015-04-17</td>\n",
       "      <td>47.96</td>\n",
       "      <td>...</td>\n",
       "      <td>f</td>\n",
       "      <td>0.0</td>\n",
       "      <td>28.60</td>\n",
       "      <td>28.60</td>\n",
       "      <td>1</td>\n",
       "      <td>6.60</td>\n",
       "      <td>6</td>\n",
       "      <td>kamkkxfxxuwbdslkwifmmcsiusiuosws</td>\n",
       "      <td>13.856</td>\n",
       "      <td>0</td>\n",
       "    </tr>\n",
       "  </tbody>\n",
       "</table>\n",
       "<p>3 rows × 26 columns</p>\n",
       "</div>"
      ],
      "text/plain": [
       "                                 id                     channel_sales  \\\n",
       "0  24011ae4ebbe3035111d65fa7c15bc57  foosdfpfkusacimwkcsosbicdxkicaua   \n",
       "1  d29c2c54acc38ff3c0614d0a653813dd                           MISSING   \n",
       "2  764c75f661154dac3a6c254cd082ea7d  foosdfpfkusacimwkcsosbicdxkicaua   \n",
       "\n",
       "   cons_12m  cons_gas_12m  cons_last_month  date_activ    date_end  \\\n",
       "0         0         54946                0  2013-06-15  2016-06-15   \n",
       "1      4660             0                0  2009-08-21  2016-08-30   \n",
       "2       544             0                0  2010-04-16  2016-04-16   \n",
       "\n",
       "  date_modif_prod date_renewal  forecast_cons_12m  ...  has_gas  imp_cons  \\\n",
       "0      2015-11-01   2015-06-23               0.00  ...        t       0.0   \n",
       "1      2009-08-21   2015-08-31             189.95  ...        f       0.0   \n",
       "2      2010-04-16   2015-04-17              47.96  ...        f       0.0   \n",
       "\n",
       "   margin_gross_pow_ele  margin_net_pow_ele  nb_prod_act  net_margin  \\\n",
       "0                 25.44               25.44            2      678.99   \n",
       "1                 16.38               16.38            1       18.89   \n",
       "2                 28.60               28.60            1        6.60   \n",
       "\n",
       "  num_years_antig                         origin_up  pow_max  churn  \n",
       "0               3  lxidpiddsbxsbosboudacockeimpuepw   43.648      1  \n",
       "1               6  kamkkxfxxuwbdslkwifmmcsiusiuosws   13.800      0  \n",
       "2               6  kamkkxfxxuwbdslkwifmmcsiusiuosws   13.856      0  \n",
       "\n",
       "[3 rows x 26 columns]"
      ]
     },
     "execution_count": 7,
     "metadata": {},
     "output_type": "execute_result"
    }
   ],
   "source": [
    "client_df.head(3)"
   ]
  },
  {
   "cell_type": "code",
   "execution_count": 4,
   "id": "2654a02d-8cf3-4a18-903e-b4f7f95d8e9e",
   "metadata": {},
   "outputs": [
    {
     "data": {
      "text/html": [
       "<div>\n",
       "<style scoped>\n",
       "    .dataframe tbody tr th:only-of-type {\n",
       "        vertical-align: middle;\n",
       "    }\n",
       "\n",
       "    .dataframe tbody tr th {\n",
       "        vertical-align: top;\n",
       "    }\n",
       "\n",
       "    .dataframe thead th {\n",
       "        text-align: right;\n",
       "    }\n",
       "</style>\n",
       "<table border=\"1\" class=\"dataframe\">\n",
       "  <thead>\n",
       "    <tr style=\"text-align: right;\">\n",
       "      <th></th>\n",
       "      <th>id</th>\n",
       "      <th>price_date</th>\n",
       "      <th>price_off_peak_var</th>\n",
       "      <th>price_peak_var</th>\n",
       "      <th>price_mid_peak_var</th>\n",
       "      <th>price_off_peak_fix</th>\n",
       "      <th>price_peak_fix</th>\n",
       "      <th>price_mid_peak_fix</th>\n",
       "    </tr>\n",
       "  </thead>\n",
       "  <tbody>\n",
       "    <tr>\n",
       "      <th>0</th>\n",
       "      <td>038af19179925da21a25619c5a24b745</td>\n",
       "      <td>2015-01-01</td>\n",
       "      <td>0.151367</td>\n",
       "      <td>0.0</td>\n",
       "      <td>0.0</td>\n",
       "      <td>44.266931</td>\n",
       "      <td>0.0</td>\n",
       "      <td>0.0</td>\n",
       "    </tr>\n",
       "    <tr>\n",
       "      <th>1</th>\n",
       "      <td>038af19179925da21a25619c5a24b745</td>\n",
       "      <td>2015-02-01</td>\n",
       "      <td>0.151367</td>\n",
       "      <td>0.0</td>\n",
       "      <td>0.0</td>\n",
       "      <td>44.266931</td>\n",
       "      <td>0.0</td>\n",
       "      <td>0.0</td>\n",
       "    </tr>\n",
       "    <tr>\n",
       "      <th>2</th>\n",
       "      <td>038af19179925da21a25619c5a24b745</td>\n",
       "      <td>2015-03-01</td>\n",
       "      <td>0.151367</td>\n",
       "      <td>0.0</td>\n",
       "      <td>0.0</td>\n",
       "      <td>44.266931</td>\n",
       "      <td>0.0</td>\n",
       "      <td>0.0</td>\n",
       "    </tr>\n",
       "  </tbody>\n",
       "</table>\n",
       "</div>"
      ],
      "text/plain": [
       "                                 id  price_date  price_off_peak_var  \\\n",
       "0  038af19179925da21a25619c5a24b745  2015-01-01            0.151367   \n",
       "1  038af19179925da21a25619c5a24b745  2015-02-01            0.151367   \n",
       "2  038af19179925da21a25619c5a24b745  2015-03-01            0.151367   \n",
       "\n",
       "   price_peak_var  price_mid_peak_var  price_off_peak_fix  price_peak_fix  \\\n",
       "0             0.0                 0.0           44.266931             0.0   \n",
       "1             0.0                 0.0           44.266931             0.0   \n",
       "2             0.0                 0.0           44.266931             0.0   \n",
       "\n",
       "   price_mid_peak_fix  \n",
       "0                 0.0  \n",
       "1                 0.0  \n",
       "2                 0.0  "
      ]
     },
     "execution_count": 4,
     "metadata": {},
     "output_type": "execute_result"
    }
   ],
   "source": [
    "price_df.head(3)"
   ]
  },
  {
   "cell_type": "markdown",
   "id": "966c3948-41c0-4183-9118-dd665c58a93c",
   "metadata": {},
   "source": [
    "---\n",
    "\n",
    "## Descriptive statistics of data\n",
    "\n",
    "### Data types\n",
    "\n",
    "It is useful to first understand the data that you're dealing with along with the data types of each column. The data types may dictate how you transform and engineer features.\n",
    "\n",
    "To get an overview of the data types within a data frame, use the `info()` method."
   ]
  },
  {
   "cell_type": "code",
   "execution_count": 5,
   "id": "2dc75b07-c286-4852-bc33-e501782e67d9",
   "metadata": {},
   "outputs": [
    {
     "name": "stdout",
     "output_type": "stream",
     "text": [
      "<class 'pandas.core.frame.DataFrame'>\n",
      "RangeIndex: 14606 entries, 0 to 14605\n",
      "Data columns (total 26 columns):\n",
      " #   Column                    Non-Null Count  Dtype  \n",
      "---  ------                    --------------  -----  \n",
      " 0   id                        14606 non-null  object \n",
      " 1   channel_sales             14606 non-null  object \n",
      " 2   cons_12m                  14606 non-null  int64  \n",
      " 3   cons_gas_12m              14606 non-null  int64  \n",
      " 4   cons_last_month           14606 non-null  int64  \n",
      " 5   date_activ                14606 non-null  object \n",
      " 6   date_end                  14606 non-null  object \n",
      " 7   date_modif_prod           14606 non-null  object \n",
      " 8   date_renewal              14606 non-null  object \n",
      " 9   forecast_cons_12m         14606 non-null  float64\n",
      " 10  forecast_cons_year        14606 non-null  int64  \n",
      " 11  forecast_discount_energy  14606 non-null  float64\n",
      " 12  forecast_meter_rent_12m   14606 non-null  float64\n",
      " 13  forecast_price_energy_p1  14606 non-null  float64\n",
      " 14  forecast_price_energy_p2  14606 non-null  float64\n",
      " 15  forecast_price_pow_p1     14606 non-null  float64\n",
      " 16  has_gas                   14606 non-null  object \n",
      " 17  imp_cons                  14606 non-null  float64\n",
      " 18  margin_gross_pow_ele      14606 non-null  float64\n",
      " 19  margin_net_pow_ele        14606 non-null  float64\n",
      " 20  nb_prod_act               14606 non-null  int64  \n",
      " 21  net_margin                14606 non-null  float64\n",
      " 22  num_years_antig           14606 non-null  int64  \n",
      " 23  origin_up                 14606 non-null  object \n",
      " 24  pow_max                   14606 non-null  float64\n",
      " 25  churn                     14606 non-null  int64  \n",
      "dtypes: float64(11), int64(7), object(8)\n",
      "memory usage: 2.9+ MB\n"
     ]
    }
   ],
   "source": [
    "client_df.info()"
   ]
  },
  {
   "cell_type": "code",
   "execution_count": 6,
   "id": "b67f2628-351a-48ee-b8ba-88c54042af88",
   "metadata": {},
   "outputs": [
    {
     "name": "stdout",
     "output_type": "stream",
     "text": [
      "<class 'pandas.core.frame.DataFrame'>\n",
      "RangeIndex: 193002 entries, 0 to 193001\n",
      "Data columns (total 8 columns):\n",
      " #   Column              Non-Null Count   Dtype  \n",
      "---  ------              --------------   -----  \n",
      " 0   id                  193002 non-null  object \n",
      " 1   price_date          193002 non-null  object \n",
      " 2   price_off_peak_var  193002 non-null  float64\n",
      " 3   price_peak_var      193002 non-null  float64\n",
      " 4   price_mid_peak_var  193002 non-null  float64\n",
      " 5   price_off_peak_fix  193002 non-null  float64\n",
      " 6   price_peak_fix      193002 non-null  float64\n",
      " 7   price_mid_peak_fix  193002 non-null  float64\n",
      "dtypes: float64(6), object(2)\n",
      "memory usage: 11.8+ MB\n"
     ]
    }
   ],
   "source": [
    "price_df.info()"
   ]
  },
  {
   "cell_type": "markdown",
   "id": "3d7e80c5-ef07-47a7-908a-a081b3ebd09e",
   "metadata": {},
   "source": [
    "### Statistics\n",
    "\n",
    "Now let's look at some statistics about the datasets. We can do this by using the `describe()` method."
   ]
  },
  {
   "cell_type": "code",
   "execution_count": 7,
   "id": "60f3010c-ecaf-4b8a-bb87-93bb54cc0c7e",
   "metadata": {},
   "outputs": [
    {
     "data": {
      "text/html": [
       "<div>\n",
       "<style scoped>\n",
       "    .dataframe tbody tr th:only-of-type {\n",
       "        vertical-align: middle;\n",
       "    }\n",
       "\n",
       "    .dataframe tbody tr th {\n",
       "        vertical-align: top;\n",
       "    }\n",
       "\n",
       "    .dataframe thead th {\n",
       "        text-align: right;\n",
       "    }\n",
       "</style>\n",
       "<table border=\"1\" class=\"dataframe\">\n",
       "  <thead>\n",
       "    <tr style=\"text-align: right;\">\n",
       "      <th></th>\n",
       "      <th>cons_12m</th>\n",
       "      <th>cons_gas_12m</th>\n",
       "      <th>cons_last_month</th>\n",
       "      <th>forecast_cons_12m</th>\n",
       "      <th>forecast_cons_year</th>\n",
       "      <th>forecast_discount_energy</th>\n",
       "      <th>forecast_meter_rent_12m</th>\n",
       "      <th>forecast_price_energy_p1</th>\n",
       "      <th>forecast_price_energy_p2</th>\n",
       "      <th>forecast_price_pow_p1</th>\n",
       "      <th>imp_cons</th>\n",
       "      <th>margin_gross_pow_ele</th>\n",
       "      <th>margin_net_pow_ele</th>\n",
       "      <th>nb_prod_act</th>\n",
       "      <th>net_margin</th>\n",
       "      <th>num_years_antig</th>\n",
       "      <th>pow_max</th>\n",
       "      <th>churn</th>\n",
       "    </tr>\n",
       "  </thead>\n",
       "  <tbody>\n",
       "    <tr>\n",
       "      <th>count</th>\n",
       "      <td>1.460600e+04</td>\n",
       "      <td>1.460600e+04</td>\n",
       "      <td>14606.000000</td>\n",
       "      <td>14606.000000</td>\n",
       "      <td>14606.000000</td>\n",
       "      <td>14606.000000</td>\n",
       "      <td>14606.000000</td>\n",
       "      <td>14606.000000</td>\n",
       "      <td>14606.000000</td>\n",
       "      <td>14606.000000</td>\n",
       "      <td>14606.000000</td>\n",
       "      <td>14606.000000</td>\n",
       "      <td>14606.000000</td>\n",
       "      <td>14606.000000</td>\n",
       "      <td>14606.000000</td>\n",
       "      <td>14606.000000</td>\n",
       "      <td>14606.000000</td>\n",
       "      <td>14606.000000</td>\n",
       "    </tr>\n",
       "    <tr>\n",
       "      <th>mean</th>\n",
       "      <td>1.592203e+05</td>\n",
       "      <td>2.809238e+04</td>\n",
       "      <td>16090.269752</td>\n",
       "      <td>1868.614880</td>\n",
       "      <td>1399.762906</td>\n",
       "      <td>0.966726</td>\n",
       "      <td>63.086871</td>\n",
       "      <td>0.137283</td>\n",
       "      <td>0.050491</td>\n",
       "      <td>43.130056</td>\n",
       "      <td>152.786896</td>\n",
       "      <td>24.565121</td>\n",
       "      <td>24.562517</td>\n",
       "      <td>1.292346</td>\n",
       "      <td>189.264522</td>\n",
       "      <td>4.997809</td>\n",
       "      <td>18.135136</td>\n",
       "      <td>0.097152</td>\n",
       "    </tr>\n",
       "    <tr>\n",
       "      <th>std</th>\n",
       "      <td>5.734653e+05</td>\n",
       "      <td>1.629731e+05</td>\n",
       "      <td>64364.196422</td>\n",
       "      <td>2387.571531</td>\n",
       "      <td>3247.786255</td>\n",
       "      <td>5.108289</td>\n",
       "      <td>66.165783</td>\n",
       "      <td>0.024623</td>\n",
       "      <td>0.049037</td>\n",
       "      <td>4.485988</td>\n",
       "      <td>341.369366</td>\n",
       "      <td>20.231172</td>\n",
       "      <td>20.230280</td>\n",
       "      <td>0.709774</td>\n",
       "      <td>311.798130</td>\n",
       "      <td>1.611749</td>\n",
       "      <td>13.534743</td>\n",
       "      <td>0.296175</td>\n",
       "    </tr>\n",
       "    <tr>\n",
       "      <th>min</th>\n",
       "      <td>0.000000e+00</td>\n",
       "      <td>0.000000e+00</td>\n",
       "      <td>0.000000</td>\n",
       "      <td>0.000000</td>\n",
       "      <td>0.000000</td>\n",
       "      <td>0.000000</td>\n",
       "      <td>0.000000</td>\n",
       "      <td>0.000000</td>\n",
       "      <td>0.000000</td>\n",
       "      <td>0.000000</td>\n",
       "      <td>0.000000</td>\n",
       "      <td>0.000000</td>\n",
       "      <td>0.000000</td>\n",
       "      <td>1.000000</td>\n",
       "      <td>0.000000</td>\n",
       "      <td>1.000000</td>\n",
       "      <td>3.300000</td>\n",
       "      <td>0.000000</td>\n",
       "    </tr>\n",
       "    <tr>\n",
       "      <th>25%</th>\n",
       "      <td>5.674750e+03</td>\n",
       "      <td>0.000000e+00</td>\n",
       "      <td>0.000000</td>\n",
       "      <td>494.995000</td>\n",
       "      <td>0.000000</td>\n",
       "      <td>0.000000</td>\n",
       "      <td>16.180000</td>\n",
       "      <td>0.116340</td>\n",
       "      <td>0.000000</td>\n",
       "      <td>40.606701</td>\n",
       "      <td>0.000000</td>\n",
       "      <td>14.280000</td>\n",
       "      <td>14.280000</td>\n",
       "      <td>1.000000</td>\n",
       "      <td>50.712500</td>\n",
       "      <td>4.000000</td>\n",
       "      <td>12.500000</td>\n",
       "      <td>0.000000</td>\n",
       "    </tr>\n",
       "    <tr>\n",
       "      <th>50%</th>\n",
       "      <td>1.411550e+04</td>\n",
       "      <td>0.000000e+00</td>\n",
       "      <td>792.500000</td>\n",
       "      <td>1112.875000</td>\n",
       "      <td>314.000000</td>\n",
       "      <td>0.000000</td>\n",
       "      <td>18.795000</td>\n",
       "      <td>0.143166</td>\n",
       "      <td>0.084138</td>\n",
       "      <td>44.311378</td>\n",
       "      <td>37.395000</td>\n",
       "      <td>21.640000</td>\n",
       "      <td>21.640000</td>\n",
       "      <td>1.000000</td>\n",
       "      <td>112.530000</td>\n",
       "      <td>5.000000</td>\n",
       "      <td>13.856000</td>\n",
       "      <td>0.000000</td>\n",
       "    </tr>\n",
       "    <tr>\n",
       "      <th>75%</th>\n",
       "      <td>4.076375e+04</td>\n",
       "      <td>0.000000e+00</td>\n",
       "      <td>3383.000000</td>\n",
       "      <td>2401.790000</td>\n",
       "      <td>1745.750000</td>\n",
       "      <td>0.000000</td>\n",
       "      <td>131.030000</td>\n",
       "      <td>0.146348</td>\n",
       "      <td>0.098837</td>\n",
       "      <td>44.311378</td>\n",
       "      <td>193.980000</td>\n",
       "      <td>29.880000</td>\n",
       "      <td>29.880000</td>\n",
       "      <td>1.000000</td>\n",
       "      <td>243.097500</td>\n",
       "      <td>6.000000</td>\n",
       "      <td>19.172500</td>\n",
       "      <td>0.000000</td>\n",
       "    </tr>\n",
       "    <tr>\n",
       "      <th>max</th>\n",
       "      <td>6.207104e+06</td>\n",
       "      <td>4.154590e+06</td>\n",
       "      <td>771203.000000</td>\n",
       "      <td>82902.830000</td>\n",
       "      <td>175375.000000</td>\n",
       "      <td>30.000000</td>\n",
       "      <td>599.310000</td>\n",
       "      <td>0.273963</td>\n",
       "      <td>0.195975</td>\n",
       "      <td>59.266378</td>\n",
       "      <td>15042.790000</td>\n",
       "      <td>374.640000</td>\n",
       "      <td>374.640000</td>\n",
       "      <td>32.000000</td>\n",
       "      <td>24570.650000</td>\n",
       "      <td>13.000000</td>\n",
       "      <td>320.000000</td>\n",
       "      <td>1.000000</td>\n",
       "    </tr>\n",
       "  </tbody>\n",
       "</table>\n",
       "</div>"
      ],
      "text/plain": [
       "           cons_12m  cons_gas_12m  cons_last_month  forecast_cons_12m  \\\n",
       "count  1.460600e+04  1.460600e+04     14606.000000       14606.000000   \n",
       "mean   1.592203e+05  2.809238e+04     16090.269752        1868.614880   \n",
       "std    5.734653e+05  1.629731e+05     64364.196422        2387.571531   \n",
       "min    0.000000e+00  0.000000e+00         0.000000           0.000000   \n",
       "25%    5.674750e+03  0.000000e+00         0.000000         494.995000   \n",
       "50%    1.411550e+04  0.000000e+00       792.500000        1112.875000   \n",
       "75%    4.076375e+04  0.000000e+00      3383.000000        2401.790000   \n",
       "max    6.207104e+06  4.154590e+06    771203.000000       82902.830000   \n",
       "\n",
       "       forecast_cons_year  forecast_discount_energy  forecast_meter_rent_12m  \\\n",
       "count        14606.000000              14606.000000             14606.000000   \n",
       "mean          1399.762906                  0.966726                63.086871   \n",
       "std           3247.786255                  5.108289                66.165783   \n",
       "min              0.000000                  0.000000                 0.000000   \n",
       "25%              0.000000                  0.000000                16.180000   \n",
       "50%            314.000000                  0.000000                18.795000   \n",
       "75%           1745.750000                  0.000000               131.030000   \n",
       "max         175375.000000                 30.000000               599.310000   \n",
       "\n",
       "       forecast_price_energy_p1  forecast_price_energy_p2  \\\n",
       "count              14606.000000              14606.000000   \n",
       "mean                   0.137283                  0.050491   \n",
       "std                    0.024623                  0.049037   \n",
       "min                    0.000000                  0.000000   \n",
       "25%                    0.116340                  0.000000   \n",
       "50%                    0.143166                  0.084138   \n",
       "75%                    0.146348                  0.098837   \n",
       "max                    0.273963                  0.195975   \n",
       "\n",
       "       forecast_price_pow_p1      imp_cons  margin_gross_pow_ele  \\\n",
       "count           14606.000000  14606.000000          14606.000000   \n",
       "mean               43.130056    152.786896             24.565121   \n",
       "std                 4.485988    341.369366             20.231172   \n",
       "min                 0.000000      0.000000              0.000000   \n",
       "25%                40.606701      0.000000             14.280000   \n",
       "50%                44.311378     37.395000             21.640000   \n",
       "75%                44.311378    193.980000             29.880000   \n",
       "max                59.266378  15042.790000            374.640000   \n",
       "\n",
       "       margin_net_pow_ele   nb_prod_act    net_margin  num_years_antig  \\\n",
       "count        14606.000000  14606.000000  14606.000000     14606.000000   \n",
       "mean            24.562517      1.292346    189.264522         4.997809   \n",
       "std             20.230280      0.709774    311.798130         1.611749   \n",
       "min              0.000000      1.000000      0.000000         1.000000   \n",
       "25%             14.280000      1.000000     50.712500         4.000000   \n",
       "50%             21.640000      1.000000    112.530000         5.000000   \n",
       "75%             29.880000      1.000000    243.097500         6.000000   \n",
       "max            374.640000     32.000000  24570.650000        13.000000   \n",
       "\n",
       "            pow_max         churn  \n",
       "count  14606.000000  14606.000000  \n",
       "mean      18.135136      0.097152  \n",
       "std       13.534743      0.296175  \n",
       "min        3.300000      0.000000  \n",
       "25%       12.500000      0.000000  \n",
       "50%       13.856000      0.000000  \n",
       "75%       19.172500      0.000000  \n",
       "max      320.000000      1.000000  "
      ]
     },
     "execution_count": 7,
     "metadata": {},
     "output_type": "execute_result"
    }
   ],
   "source": [
    "client_df.describe()"
   ]
  },
  {
   "cell_type": "code",
   "execution_count": 10,
   "id": "377d238e-af68-4bed-9361-2bfadcb5529a",
   "metadata": {},
   "outputs": [
    {
     "data": {
      "text/html": [
       "<div>\n",
       "<style scoped>\n",
       "    .dataframe tbody tr th:only-of-type {\n",
       "        vertical-align: middle;\n",
       "    }\n",
       "\n",
       "    .dataframe tbody tr th {\n",
       "        vertical-align: top;\n",
       "    }\n",
       "\n",
       "    .dataframe thead th {\n",
       "        text-align: right;\n",
       "    }\n",
       "</style>\n",
       "<table border=\"1\" class=\"dataframe\">\n",
       "  <thead>\n",
       "    <tr style=\"text-align: right;\">\n",
       "      <th></th>\n",
       "      <th>price_off_peak_var</th>\n",
       "      <th>price_peak_var</th>\n",
       "      <th>price_mid_peak_var</th>\n",
       "      <th>price_off_peak_fix</th>\n",
       "      <th>price_peak_fix</th>\n",
       "      <th>price_mid_peak_fix</th>\n",
       "    </tr>\n",
       "  </thead>\n",
       "  <tbody>\n",
       "    <tr>\n",
       "      <th>count</th>\n",
       "      <td>193002.000000</td>\n",
       "      <td>193002.000000</td>\n",
       "      <td>193002.000000</td>\n",
       "      <td>193002.000000</td>\n",
       "      <td>193002.000000</td>\n",
       "      <td>193002.000000</td>\n",
       "    </tr>\n",
       "    <tr>\n",
       "      <th>mean</th>\n",
       "      <td>0.141027</td>\n",
       "      <td>0.054630</td>\n",
       "      <td>0.030496</td>\n",
       "      <td>43.334477</td>\n",
       "      <td>10.622875</td>\n",
       "      <td>6.409984</td>\n",
       "    </tr>\n",
       "    <tr>\n",
       "      <th>std</th>\n",
       "      <td>0.025032</td>\n",
       "      <td>0.049924</td>\n",
       "      <td>0.036298</td>\n",
       "      <td>5.410297</td>\n",
       "      <td>12.841895</td>\n",
       "      <td>7.773592</td>\n",
       "    </tr>\n",
       "    <tr>\n",
       "      <th>min</th>\n",
       "      <td>0.000000</td>\n",
       "      <td>0.000000</td>\n",
       "      <td>0.000000</td>\n",
       "      <td>0.000000</td>\n",
       "      <td>0.000000</td>\n",
       "      <td>0.000000</td>\n",
       "    </tr>\n",
       "    <tr>\n",
       "      <th>25%</th>\n",
       "      <td>0.125976</td>\n",
       "      <td>0.000000</td>\n",
       "      <td>0.000000</td>\n",
       "      <td>40.728885</td>\n",
       "      <td>0.000000</td>\n",
       "      <td>0.000000</td>\n",
       "    </tr>\n",
       "    <tr>\n",
       "      <th>50%</th>\n",
       "      <td>0.146033</td>\n",
       "      <td>0.085483</td>\n",
       "      <td>0.000000</td>\n",
       "      <td>44.266930</td>\n",
       "      <td>0.000000</td>\n",
       "      <td>0.000000</td>\n",
       "    </tr>\n",
       "    <tr>\n",
       "      <th>75%</th>\n",
       "      <td>0.151635</td>\n",
       "      <td>0.101673</td>\n",
       "      <td>0.072558</td>\n",
       "      <td>44.444710</td>\n",
       "      <td>24.339581</td>\n",
       "      <td>16.226389</td>\n",
       "    </tr>\n",
       "    <tr>\n",
       "      <th>max</th>\n",
       "      <td>0.280700</td>\n",
       "      <td>0.229788</td>\n",
       "      <td>0.114102</td>\n",
       "      <td>59.444710</td>\n",
       "      <td>36.490692</td>\n",
       "      <td>17.458221</td>\n",
       "    </tr>\n",
       "  </tbody>\n",
       "</table>\n",
       "</div>"
      ],
      "text/plain": [
       "       price_off_peak_var  price_peak_var  price_mid_peak_var  \\\n",
       "count       193002.000000   193002.000000       193002.000000   \n",
       "mean             0.141027        0.054630            0.030496   \n",
       "std              0.025032        0.049924            0.036298   \n",
       "min              0.000000        0.000000            0.000000   \n",
       "25%              0.125976        0.000000            0.000000   \n",
       "50%              0.146033        0.085483            0.000000   \n",
       "75%              0.151635        0.101673            0.072558   \n",
       "max              0.280700        0.229788            0.114102   \n",
       "\n",
       "       price_off_peak_fix  price_peak_fix  price_mid_peak_fix  \n",
       "count       193002.000000   193002.000000       193002.000000  \n",
       "mean            43.334477       10.622875            6.409984  \n",
       "std              5.410297       12.841895            7.773592  \n",
       "min              0.000000        0.000000            0.000000  \n",
       "25%             40.728885        0.000000            0.000000  \n",
       "50%             44.266930        0.000000            0.000000  \n",
       "75%             44.444710       24.339581           16.226389  \n",
       "max             59.444710       36.490692           17.458221  "
      ]
     },
     "execution_count": 10,
     "metadata": {},
     "output_type": "execute_result"
    }
   ],
   "source": [
    "price_df.describe()"
   ]
  },
  {
   "cell_type": "markdown",
   "id": "866aa47d-c445-4f94-9078-f31d3d8481db",
   "metadata": {},
   "source": [
    "### Checking for null values"
   ]
  },
  {
   "cell_type": "code",
   "execution_count": 15,
   "id": "64e9a6c5-c8b3-485f-8d85-d03f133ee1df",
   "metadata": {},
   "outputs": [
    {
     "name": "stdout",
     "output_type": "stream",
     "text": [
      "Customer Data missing values: \n"
     ]
    },
    {
     "data": {
      "text/plain": [
       "id                                0\n",
       "channel_sales                     0\n",
       "cons_12m                          0\n",
       "cons_gas_12m                      0\n",
       "cons_last_month                   0\n",
       "date_activ                        0\n",
       "date_end                          0\n",
       "date_modif_prod                   0\n",
       "date_renewal                      0\n",
       "forecast_cons_12m                 0\n",
       "forecast_cons_year                0\n",
       "forecast_discount_energy          0\n",
       "forecast_meter_rent_12m           0\n",
       "forecast_price_energy_off_peak    0\n",
       "forecast_price_energy_peak        0\n",
       "forecast_price_pow_off_peak       0\n",
       "has_gas                           0\n",
       "imp_cons                          0\n",
       "margin_gross_pow_ele              0\n",
       "margin_net_pow_ele                0\n",
       "nb_prod_act                       0\n",
       "net_margin                        0\n",
       "num_years_antig                   0\n",
       "origin_up                         0\n",
       "pow_max                           0\n",
       "churn                             0\n",
       "dtype: int64"
      ]
     },
     "execution_count": 15,
     "metadata": {},
     "output_type": "execute_result"
    }
   ],
   "source": [
    "print(\"Customer Data missing values: \")\n",
    "client_df.isna().sum()"
   ]
  },
  {
   "cell_type": "code",
   "execution_count": 17,
   "id": "6e734bd1-d773-4463-b6bf-766566a4764d",
   "metadata": {},
   "outputs": [
    {
     "name": "stdout",
     "output_type": "stream",
     "text": [
      "Price Data missing values: \n"
     ]
    },
    {
     "data": {
      "text/plain": [
       "id                    0\n",
       "price_date            0\n",
       "price_off_peak_var    0\n",
       "price_peak_var        0\n",
       "price_mid_peak_var    0\n",
       "price_off_peak_fix    0\n",
       "price_peak_fix        0\n",
       "price_mid_peak_fix    0\n",
       "dtype: int64"
      ]
     },
     "execution_count": 17,
     "metadata": {},
     "output_type": "execute_result"
    }
   ],
   "source": [
    "print(\"Price Data missing values: \")\n",
    "price_df.isna().sum()"
   ]
  },
  {
   "cell_type": "markdown",
   "id": "9f3d5cb5-adcf-497f-9326-7f03e816e751",
   "metadata": {},
   "source": [
    "### Analyzing categorical columns"
   ]
  },
  {
   "cell_type": "code",
   "execution_count": 25,
   "id": "9eb5af2a-8590-4244-aa14-f19a3d10c652",
   "metadata": {},
   "outputs": [
    {
     "name": "stdout",
     "output_type": "stream",
     "text": [
      "Client Sales Distribution: \n"
     ]
    },
    {
     "data": {
      "text/plain": [
       "channel_sales\n",
       "foosdfpfkusacimwkcsosbicdxkicaua    6754\n",
       "MISSING                             3725\n",
       "lmkebamcaaclubfxadlmueccxoimlema    1843\n",
       "usilxuppasemubllopkaafesmlibmsdf    1375\n",
       "ewpakwlliwisiwduibdlfmalxowmwpci     893\n",
       "sddiedcslfslkckwlfkdpoeeailfpeds      11\n",
       "epumfxlbckeskwekxbiuasklxalciiuu       3\n",
       "fixdbufsefwooaasfcxdxadsiekoceaa       2\n",
       "Name: count, dtype: int64"
      ]
     },
     "execution_count": 25,
     "metadata": {},
     "output_type": "execute_result"
    }
   ],
   "source": [
    "print(\"Client Sales Distribution: \")\n",
    "client_df['channel_sales'].value_counts()"
   ]
  },
  {
   "cell_type": "code",
   "execution_count": 29,
   "id": "7ade3381-ad61-461e-9d2d-b004887be511",
   "metadata": {},
   "outputs": [
    {
     "name": "stdout",
     "output_type": "stream",
     "text": [
      "Churn Distribution:\n"
     ]
    },
    {
     "data": {
      "text/plain": [
       "churn\n",
       "0    13187\n",
       "1     1419\n",
       "Name: count, dtype: int64"
      ]
     },
     "execution_count": 29,
     "metadata": {},
     "output_type": "execute_result"
    }
   ],
   "source": [
    "print(\"Churn Distribution:\")\n",
    "client_df['churn'].value_counts()"
   ]
  },
  {
   "cell_type": "markdown",
   "id": "6a7a8879-c483-4464-9057-c70e6b150e53",
   "metadata": {},
   "source": [
    "---\n",
    "\n",
    "## Data visualization\n",
    "\n",
    "If you're working in Python, two of the most popular packages for visualization are `matplotlib` and `seaborn`. We highly recommend you use these, or at least be familiar with them because they are ubiquitous!\n",
    "\n",
    "Below are some functions that you can use to get started with visualizations. "
   ]
  },
  {
   "cell_type": "code",
   "execution_count": 9,
   "id": "f350ea0a-dc45-43f5-a6b7-e5e816964419",
   "metadata": {},
   "outputs": [],
   "source": [
    "def plot_stacked_bars(dataframe, title_, size_=(18, 10), rot_=0, legend_=\"upper right\"):\n",
    "    \"\"\"\n",
    "    Plot stacked bars with annotations\n",
    "    \"\"\"\n",
    "    ax = dataframe.plot(\n",
    "        kind=\"bar\",\n",
    "        stacked=True,\n",
    "        figsize=size_,\n",
    "        rot=rot_,\n",
    "        title=title_\n",
    "    )\n",
    "\n",
    "    # Annotate bars\n",
    "    annotate_stacked_bars(ax, textsize=14)\n",
    "    # Rename legend\n",
    "    plt.legend([\"Retention\", \"Churn\"], loc=legend_)\n",
    "    # Labels\n",
    "    plt.ylabel(\"Company base (%)\")\n",
    "    plt.show()\n",
    "\n",
    "def annotate_stacked_bars(ax, pad=0.99, colour=\"white\", textsize=13):\n",
    "    \"\"\"\n",
    "    Add value annotations to the bars\n",
    "    \"\"\"\n",
    "\n",
    "    # Iterate over the plotted rectanges/bars\n",
    "    for p in ax.patches:\n",
    "        \n",
    "        # Calculate annotation\n",
    "        value = str(round(p.get_height(),1))\n",
    "        # If value is 0 do not annotate\n",
    "        if value == '0.0':\n",
    "            continue\n",
    "        ax.annotate(\n",
    "            value,\n",
    "            ((p.get_x()+ p.get_width()/2)*pad-0.05, (p.get_y()+p.get_height()/2)*pad),\n",
    "            color=colour,\n",
    "            size=textsize\n",
    "        )\n",
    "\n",
    "def plot_distribution(dataframe, column, ax, bins_=50):\n",
    "    \"\"\"\n",
    "    Plot variable distirbution in a stacked histogram of churned or retained company\n",
    "    \"\"\"\n",
    "    # Create a temporal dataframe with the data to be plot\n",
    "    temp = pd.DataFrame({\"Retention\": dataframe[dataframe[\"churn\"]==0][column],\n",
    "    \"Churn\":dataframe[dataframe[\"churn\"]==1][column]})\n",
    "    # Plot the histogram\n",
    "    temp[[\"Retention\",\"Churn\"]].plot(kind='hist', bins=bins_, ax=ax, stacked=True)\n",
    "    # X-axis label\n",
    "    ax.set_xlabel(column)\n",
    "    # Change the x-axis to plain style\n",
    "    ax.ticklabel_format(style='plain', axis='x')"
   ]
  },
  {
   "cell_type": "markdown",
   "id": "6eab14d0",
   "metadata": {},
   "source": [
    "Thhe first function `plot_stacked_bars` is used to plot a stacked bar chart. An example of how you could use this is shown below:"
   ]
  },
  {
   "cell_type": "code",
   "execution_count": 10,
   "id": "448c05d8",
   "metadata": {},
   "outputs": [
    {
     "data": {
      "image/png": "[encoded data removed]",
      "text/plain": [
       "<Figure size 360x360 with 1 Axes>"
      ]
     },
     "metadata": {},
     "output_type": "display_data"
    }
   ],
   "source": [
    "churn = client_df[['id', 'churn']]\n",
    "churn.columns = ['Companies', 'churn']\n",
    "churn_total = churn.groupby(churn['churn']).count()\n",
    "churn_percentage = churn_total / churn_total.sum() * 100\n",
    "plot_stacked_bars(churn_percentage.transpose(), \"Churning status\", (5, 5), legend_=\"lower right\")"
   ]
  },
  {
   "cell_type": "markdown",
   "id": "d055f10e",
   "metadata": {},
   "source": [
    "The second function `annotate_bars` is used by the first function, but the third function `plot_distribution` helps you to plot the distribution of a numeric column. An example of how it can be used is given below:"
   ]
  },
  {
   "cell_type": "code",
   "execution_count": 11,
   "id": "9a28757e",
   "metadata": {},
   "outputs": [
    {
     "data": {
      "image/png": "[encoded data removed]",
      "text/plain": [
       "<Figure size 1296x360 with 1 Axes>"
      ]
     },
     "metadata": {},
     "output_type": "display_data"
    }
   ],
   "source": [
    "consumption = client_df[['id', 'cons_12m', 'cons_gas_12m', 'cons_last_month', 'imp_cons', 'has_gas', 'churn']]\n",
    "\n",
    "fig, axs = plt.subplots(nrows=1, figsize=(18, 5))\n",
    "\n",
    "plot_distribution(consumption, 'cons_12m', axs)"
   ]
  },
  {
   "cell_type": "markdown",
   "id": "debbcf6e-3ce6-4712-adbb-5be12aaa5a58",
   "metadata": {},
   "source": [
    "### Some additional plots for churn"
   ]
  },
  {
   "cell_type": "code",
   "execution_count": 32,
   "id": "711c1060-c961-4af0-ad95-f6bf4dad530d",
   "metadata": {},
   "outputs": [
    {
     "data": {
      "image/png": "[encoded data removed]",
      "text/plain": [
       "<Figure size 1000x600 with 1 Axes>"
      ]
     },
     "metadata": {},
     "output_type": "display_data"
    }
   ],
   "source": [
    "# Box plot for Consumption in the last 12 months\n",
    "plt.figure(figsize=(10, 6))\n",
    "sns.boxplot(x='churn', y='cons_12m', data=client_df)\n",
    "plt.title(\"Box Plot of Consumption Over Last 12 Months by Churn Status\")\n",
    "plt.xlabel('Churn (0 = Retained, 1 = Churned)')\n",
    "plt.ylabel('Consumption (cons_12m)')\n",
    "plt.show()\n"
   ]
  },
  {
   "cell_type": "markdown",
   "id": "96110c24-5a84-425b-af50-14a818cc0337",
   "metadata": {},
   "source": [
    "Insights: If churned customers have higher or lower consumption, this could indicate dissatisfaction with the service or pricing."
   ]
  },
  {
   "cell_type": "code",
   "execution_count": 37,
   "id": "3e07f07e-d910-4cb1-843b-c75402fd823f",
   "metadata": {},
   "outputs": [],
   "source": [
    "def plot_violin(dataframe, column, ax):\n",
    "    \"\"\"\n",
    "    Plot a violin plot for numerical data categorized by churned or retained customers\n",
    "    \"\"\"\n",
    "    sns.violinplot(x=\"churn\", y=column, data=dataframe, ax=ax, inner=\"quartile\", split=True)\n",
    "    ax.set_title(f'Violin Plot of {column} by Churn')\n",
    "    ax.set_xlabel('Churn (0 = Retained, 1 = Churned)')\n",
    "    ax.set_ylabel(column)\n"
   ]
  },
  {
   "cell_type": "code",
   "execution_count": 39,
   "id": "9ef1afbf-6c37-463d-b11a-0b900c7025e5",
   "metadata": {},
   "outputs": [
    {
     "data": {
      "image/png": "[encoded data removed]",
      "text/plain": [
       "<Figure size 1600x1200 with 4 Axes>"
      ]
     },
     "metadata": {},
     "output_type": "display_data"
    }
   ],
   "source": [
    "fig, axes = plt.subplots(2, 2, figsize=(16, 12))\n",
    "plot_violin(client_df, 'cons_12m', axes[0, 0])\n",
    "plot_violin(client_df, 'forecast_cons_12m', axes[0, 1])\n",
    "plot_violin(client_df, 'margin_gross_pow_ele', axes[1, 0])\n",
    "plot_violin(client_df, 'nb_prod_act', axes[1, 1])\n",
    "plt.tight_layout()\n",
    "plt.show()\n"
   ]
  },
  {
   "cell_type": "markdown",
   "id": "4d032eed-dc0a-4d65-b684-f03a49bd1451",
   "metadata": {},
   "source": [
    "The violin plot shows churned customers have more variable consumption patterns compared to retained customers, indicating lower or inconsistent usage may contribute to churn."
   ]
  }
 ],
 "metadata": {
  "interpreter": {
   "hash": "152bf6e7dc8ee53edb5af21dc1a8faeab7f134840808a94079ed98d91ece7e0c"
  },
  "kernelspec": {
   "display_name": "Python 3 (ipykernel)",
   "language": "python",
   "name": "python3"
  },
  "language_info": {
   "codemirror_mode": {
    "name": "ipython",
    "version": 3
   },
   "file_extension": ".py",
   "mimetype": "text/x-python",
   "name": "python",
   "nbconvert_exporter": "python",
   "pygments_lexer": "ipython3",
   "version": "3.12.4"
  }
 },
 "nbformat": 4,
 "nbformat_minor": 5
}
